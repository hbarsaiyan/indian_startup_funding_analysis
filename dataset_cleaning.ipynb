{
 "cells": [
  {
   "cell_type": "code",
   "execution_count": null,
   "metadata": {},
   "outputs": [],
   "source": [
    "import pandas as pd\n",
    "import numpy as np\n",
    "import warnings\n",
    "warnings.filterwarnings(\"ignore\")"
   ]
  },
  {
   "cell_type": "code",
   "execution_count": null,
   "metadata": {},
   "outputs": [],
   "source": [
    "data=pd.read_csv('../dataset/startup_funding.csv')\n",
    "data.columns=['SNo', 'Date', 'StartupName', 'IndustryVertical', 'SubVertical',\n",
    "       'CityLocation', 'InvestorsName', 'InvestmentType', 'AmountInUSD',\n",
    "       'Remarks']"
   ]
  },
  {
   "cell_type": "code",
   "execution_count": null,
   "metadata": {},
   "outputs": [],
   "source": [
    "data.head(2)"
   ]
  },
  {
   "cell_type": "code",
   "execution_count": null,
   "metadata": {},
   "outputs": [],
   "source": [
    "data['StartupName'] = data['StartupName'].apply(lambda x: (str(x).replace(\"\\\\\\\\\",\"\")))\n",
    "data['StartupName'] = data['StartupName'].apply(lambda x: (str(x).replace(\"\\\"\",\"\")))"
   ]
  },
  {
   "cell_type": "code",
   "execution_count": null,
   "metadata": {},
   "outputs": [],
   "source": [
    "for i in range(0,len(data[\"IndustryVertical\"])):\n",
    "    if data[\"IndustryVertical\"][i] in [\"ECommerce\",\n",
    "                                       \"ecommerce\",\n",
    "                                       \"Ecommerce\", \n",
    "                                       \"E-Commerce\",\n",
    "                                       \"E-commerce\"]:\n",
    "        data[\"IndustryVertical\"][i]=\"eCommerce\"\n",
    "        \n",
    "for i in range(0,len(data[\"StartupName\"])):\n",
    "    if data[\"StartupName\"][i] in [\"Ola\",\n",
    "                                  \"Ola Cabs\", \n",
    "                                  \"Olacabs\"]:\n",
    "        data[\"StartupName\"][i]=\"Ola\"  \n",
    "    elif data[\"StartupName\"][i] ==\"Flipkart.com\":\n",
    "        data[\"StartupName\"][i]=\"Flipkart\"    \n",
    "    elif data[\"StartupName\"][i] ==\"Paytm Marketplace\":\n",
    "        data[\"StartupName\"][i]=\"Paytm\"   \n",
    "for i in range(0,len(data[\"StartupName\"])):\n",
    "  if data[\"InvestorsName\"][i] in ['Undisclosed investors',\n",
    "                                  'Undisclosed Investors',\n",
    "                                  'Undisclosed',\n",
    "                                  'Undisclosed investor',\n",
    "                                  'Undisclosed Investor',\n",
    "                                  'undisclosed investors']:\n",
    "    data[\"InvestorsName\"][i]=\"Undisclosed\"\n",
    "    \n",
    "for i in range(0,len(data[\"StartupName\"])):\n",
    "    if data[\"StartupName\"][i] in [\"OYO\",\n",
    "                                  \"OYO Rooms\", \n",
    "                                  \"OyoRooms\", \n",
    "                                  \"Oyorooms\", \n",
    "                                  \"Oyo\",\n",
    "                                 \"Oyo Rooms\"]:\n",
    "        data[\"StartupName\"][i]= \"OYO Rooms\"\n",
    "    elif data[\"StartupName\"][i] in [\"Byjuxe2x80x99s\",\n",
    "                                    \"BYJU'S\"]:\n",
    "        data[\"StartupName\"][i]= \"Byju's\"    \n",
    "    \n",
    "for i in range  (0,len(data[\"CityLocation\"])):\n",
    "    if data[\"CityLocation\"][i] in [\"New Delhi\",\n",
    "                                   \"Delhi\",\n",
    "                                   \"Noida\", \n",
    "                                   \"Gurugram\",\n",
    "                                   \"Gurgaon\"]:\n",
    "        data[\"CityLocation\"][i]=\"NCR\"\n",
    "    elif data[\"CityLocation\"][i]==\"Bangalore\":\n",
    "        data[\"CityLocation\"][i]=\"Bengaluru\"\n",
    "\n",
    "data.loc[data['CityLocation'].isin(['\\\\\\\\xc2\\\\\\\\xa0Noida', '\\\\xc2\\\\xa0Noida']), 'CityLocation'] = 'Noida'\n",
    "data.loc[data['CityLocation'].isin(['\\\\\\\\xc2\\\\\\\\xa0Bangalore', '\\\\xc2\\\\xa0Bangalore', 'Bangalore']), 'CityLocation'] = 'Bengaluru'\n",
    "data.loc[data['CityLocation'].isin(['\\\\\\\\xc2\\\\\\\\xa0New Delhi', '\\\\xc2\\\\xa0New Delhi']), 'CityLocation'] = 'New Delhi'\n",
    "data.loc[data['CityLocation'].isin(['\\\\\\\\xc2\\\\\\\\xa0Gurgaon', 'Gurugram']), 'CityLocation'] = 'Gurgaon'\n",
    "data.loc[data['CityLocation'].isin(['\\\\\\\\xc2\\\\\\\\xa0Mumbai', '\\\\xc2\\\\xa0Mumbai']), 'CityLocation'] = 'Mumbai'\n",
    "        \n",
    "\n",
    "data.loc[data['IndustryVertical'] == \"\\\\\\\\xc2\\\\\\\\xa0News Aggregator mobile app\", 'IndustryVertical'] = 'News Aggregator mobile app'\n",
    "data.loc[data['IndustryVertical'] == \"\\\\\\\\xc2\\\\\\\\xa0Online Jewellery Store\", 'IndustryVertical'] = 'Online Jewellery Store'\n",
    "data.loc[data['IndustryVertical'] == \"\\\\\\\\xc2\\\\\\\\xa0Fashion Info Aggregator App\", 'IndustryVertical'] = 'Fashion Info Aggregator App'\n",
    "data.loc[data['IndustryVertical'] == \"\\\\\\\\xc2\\\\\\\\xa0Online Study Notes Marketplace\", 'IndustryVertical'] = 'Online Study Notes Marketplace'\n",
    "data.loc[data['IndustryVertical'] == \"\\\\\\\\xc2\\\\\\\\xa0Warranty Programs Service Administration\", 'IndustryVertical'] = 'Warranty Programs Service Administration'\n",
    "data.loc[data['IndustryVertical'] == \"\\\\\\\\xc2\\\\\\\\xa0Pre-School Chain\", 'IndustryVertical'] = 'Pre-School Chain'\n",
    "data.loc[data['IndustryVertical'] == \"\\\\\\\\xc2\\\\\\\\xa0Premium Loyalty Rewards Point Management\", 'IndustryVertical'] = 'Premium Loyalty Rewards Point Management'\n",
    "data.loc[data['IndustryVertical'] == \"\\\\\\\\xc2\\\\\\\\xa0Contact Center Software Platform\", 'IndustryVertical'] = 'Contact Center Software Platform'\n",
    "data.loc[data['IndustryVertical'] == \"\\\\\\\\xc2\\\\\\\\xa0Casual Dining restaurant Chain\", 'IndustryVertical'] = 'Casual Dining restaurant Chain'\n",
    "data.loc[data['IndustryVertical'] == \"\\\\\\\\xc2\\\\\\\\xa0Online Grocery Delivery\", 'IndustryVertical'] = 'Online Grocery Delivery'\n",
    "data.loc[data['IndustryVertical'] == \"Online home d\\\\\\\\xc3\\\\\\\\xa9cor marketplace\", 'IndustryVertical'] = 'Online home decor marketplace'\n",
    "data.loc[data['IndustryVertical'].isin([\"Fin-Tech\"]), 'IndustryVertical'] = 'FinTech'   \n",
    "\n",
    "data.loc[data['InvestorsName'].isin(['Undisclosed investors', 'Undisclosed', 'undisclosed investors', 'Undisclosed Investor', 'Undisclosed investors']), 'InvestorsName'] = 'Undisclosed Investors'\n",
    "data.loc[data['InvestorsName'] == \"\\\\\\\\xc2\\\\\\\\xa0Tiger Global\", 'InvestorsName'] = 'Tiger Global'\n",
    "data.loc[data['InvestorsName'] == \"\\\\\\\\xc2\\\\\\\\xa0IndianIdeas.com\", 'InvestorsName'] = 'IndianIdeas'\n",
    "data.loc[data['InvestorsName'] == \"\\\\\\\\xc2\\\\\\\\xa0IvyCap Ventures, Accel Partners, Dragoneer Investment Group\", 'InvestorsName'] = 'IvyCap Ventures, Accel Partners, Dragoneer Investment Group'\n",
    "data.loc[data['InvestorsName'] == \"\\\\\\\\xc2\\\\\\\\xa0Goldman Sachs\", 'InvestorsName'] = 'Goldman Sachs'"
   ]
  },
  {
   "cell_type": "code",
   "execution_count": null,
   "metadata": {},
   "outputs": [],
   "source": [
    "# Lets see percentage of missing values in every column\n",
    "\n",
    "m=(100-(data.count()/data.isna().count())*100)\n",
    "display(m)"
   ]
  },
  {
   "cell_type": "code",
   "execution_count": null,
   "metadata": {},
   "outputs": [],
   "source": [
    "# Remarks column has the 86% missing value, so we will drop it.\n",
    "data.drop(\"Remarks\", axis=1, inplace=True)"
   ]
  }
 ],
 "metadata": {
  "language_info": {
   "name": "python"
  }
 },
 "nbformat": 4,
 "nbformat_minor": 2
}
